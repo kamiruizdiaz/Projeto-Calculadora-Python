{
 "cells": [
  {
   "cell_type": "code",
   "execution_count": null,
   "id": "5965f3bd",
   "metadata": {},
   "outputs": [],
   "source": [
    "# Calculadora em python\n",
    "\n",
    "print(\"\\n************************* Calculadora em Python*************************\")\n",
    "\n",
    "\n",
    "def soma(x, y):\n",
    "    return x+y\n",
    "\n",
    "\n",
    "def subtracao(x, y):\n",
    "    return x-y\n",
    "\n",
    "\n",
    "def multiplicacao(x, y):\n",
    "    return x*y\n",
    "\n",
    "\n",
    "def divisao(x, y):\n",
    "    return x/y\n",
    "\n",
    "\n",
    "print(\"\\nSelecione o número da operação desejada:\\n1-Soma\\n2-Subtração\\n3-Multiplicação\\n4-Divisão\\n\")\n",
    "\n",
    "escolha = input(\"Digite sua opção (1/2/3/4):\")\n",
    "\n",
    "    \n",
    "\n",
    "num1 = int(input(\"Digite o primeiro número\"))\n",
    "num2 = int(input(\"Digite o segundo número\"))\n",
    "\n",
    "if escolha == '1':\n",
    "    print(num1,\"+\", num2, \"=\", soma(num1, num2))\n",
    "\n",
    "elif escolha == '2':\n",
    "    print(num1, \"-\", num2, \"=\", subtracao(num1, num2))\n",
    "\n",
    "elif escolha == '3':\n",
    "    print(num1, '*', num2, \"=\", multiplicacao(num1, num2))\n",
    "\n",
    "elif escolha == '4':\n",
    "    print(num1, \"/\", num2, \"=\", divisao(num1, num2))\n",
    "    \n",
    "else:\n",
    "    print(\"Opção Inválida\")\n",
    "    "
   ]
  }
 ],
 "metadata": {
  "kernelspec": {
   "display_name": "Python 3",
   "language": "python",
   "name": "python3"
  },
  "language_info": {
   "codemirror_mode": {
    "name": "ipython",
    "version": 3
   },
   "file_extension": ".py",
   "mimetype": "text/x-python",
   "name": "python",
   "nbconvert_exporter": "python",
   "pygments_lexer": "ipython3",
   "version": "3.8.8"
  }
 },
 "nbformat": 4,
 "nbformat_minor": 5
}
